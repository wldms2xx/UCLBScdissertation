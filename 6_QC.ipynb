{
 "cells": [
  {
   "cell_type": "code",
   "execution_count": null,
   "metadata": {},
   "outputs": [],
   "source": [
    "# QC metrics \n",
    "preop_arr = preop_ants.numpy()\n",
    "registered_arr = registered_ants.numpy()\n",
    "difference = np.abs(preop_arr - registered_arr)\n",
    "rmse = np.sqrt(np.mean(difference**2))\n",
    "print(f\"Root Mean Squared Error (RMSE): {rmse:.4f}\")\n",
    "\n",
    "from skimage.metrics import structural_similarity as ssim\n",
    "assert preop_arr.shape == registered_arr.shape\n",
    "ssi_values = []\n",
    "for i in range(preop_arr.shape[0]):\n",
    "    slice_ssi = ssim(preop_arr[i, :, :], registered_arr[i, :, :], data_range=preop_arr.max() - preop_arr.min())\n",
    "    ssi_values.append(slice_ssi)\n",
    "vol_ssi=ssim(preop_arr, registered_arr, data_range=preop_arr.max() - preop_arr.min())\n",
    "average_ssi = np.mean(ssi_values)\n",
    "print(f\"Average Structural Similarity Index (SSI) across all slices: {average_ssi:.4f}\")"
   ]
  }
 ],
 "metadata": {
  "language_info": {
   "name": "python"
  }
 },
 "nbformat": 4,
 "nbformat_minor": 2
}
