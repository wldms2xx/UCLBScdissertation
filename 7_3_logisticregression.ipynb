{
 "cells": [
  {
   "cell_type": "code",
   "execution_count": null,
   "metadata": {},
   "outputs": [],
   "source": [
    "# logistic regression \n",
    "\n",
    "model_formula = 'SF ~ general+overlapscore+lesionvol+duration+drugresistance+C(pathology)+mrineg+seeg'\n",
    "results = sm.Logit.from_formula(model_formula, data=data).fit()\n",
    "\n",
    "\n",
    "overlapscore_range = np.linspace(data['overlapscore'].min(), data['overlapscore'].max(), 100)\n",
    "\n",
    "\n",
    "new_data = pd.DataFrame({\n",
    "    'overlapscore': overlapscore_range,\n",
    "    'general': data['general'].mean(),\n",
    "    'lesionvol': data['lesionvol'].mean(),\n",
    "    'duration': data['duration'].mean(),\n",
    "    'drugresistance': data['drugresistance'].mean(),\n",
    "    'mrineg':data['mrineg'].mean(),\n",
    "    'seeg':data['seeg'].mean(),\n",
    "    'pathology': data['pathology'].mode()[0]  \n",
    "})\n",
    "   \n",
    "\n",
    "new_data['predicted_probabilities'] = results.predict(new_data)\n",
    "\n",
    "\n",
    "plt.figure(figsize=(8, 4))\n",
    "plt.plot(overlapscore_range, new_data['predicted_probabilities'], color='#7d5fff', lw=2, label='Logistic Regression Curve')\n",
    "\n",
    "\n",
    "plt.scatter(data['overlapscore'], data['SF'], color='#00bec3', alpha=0.7, label='Observed Data')\n",
    "\n",
    "\n",
    "plt.xlabel('Overlap Percentage (%)')\n",
    "plt.ylabel('Predicted Probability of Seizure Free')\n",
    "plt.title(\"Logistic Regression Model\")\n",
    "plt.grid(alpha=0.2)\n",
    "plt.show()"
   ]
  }
 ],
 "metadata": {
  "language_info": {
   "name": "python"
  }
 },
 "nbformat": 4,
 "nbformat_minor": 2
}
