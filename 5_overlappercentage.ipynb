{
 "cells": [
  {
   "cell_type": "code",
   "execution_count": null,
   "metadata": {},
   "outputs": [],
   "source": [
    "# Overlap Percentage + results \n",
    "def calculate_overlap_percentage(cavity_mask, lesion_mask):\n",
    "    # Ensure the masks are binary\n",
    "    cavity_mask = (cavity_mask > 0).astype(int)\n",
    "    lesion_mask = (lesion_mask > 0).astype(int)\n",
    "        \n",
    "    # Calculate intersection and union\n",
    "    intersection = np.sum(cavity_mask * lesion_mask)\n",
    "    lesion_volume = np.sum(lesion_mask)\n",
    "        \n",
    "    if lesion_volume == 0:\n",
    "        return 0.0  # Avoid division by zero if the lesion mask is empty\n",
    "        \n",
    "    # Percentage overlap\n",
    "    overlap_percentage = (intersection / lesion_volume) * 100\n",
    "    return overlap_percentage\n",
    "\n",
    "registered_c_mask = registered_c_ants.numpy()  \n",
    "lesionmask = lesionmask_ants.numpy()                 \n",
    "overlap_percentage = calculate_overlap_percentage(registered_c_mask, lesionmask)\n",
    "print(f\"Overlap Percentage : {overlap_percentage:.2f}%\")"
   ]
  }
 ],
 "metadata": {
  "language_info": {
   "name": "python"
  }
 },
 "nbformat": 4,
 "nbformat_minor": 2
}
