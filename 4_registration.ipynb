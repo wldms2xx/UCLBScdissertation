{
 "cells": [
  {
   "cell_type": "code",
   "execution_count": null,
   "metadata": {},
   "outputs": [],
   "source": [
    "# preop + postop registration / axial view \n",
    "transformation = ants.registration(\n",
    "    fixed=preop_ants,\n",
    "    moving=postop_ants,\n",
    "    type_of_transform='SyN',\n",
    "    verbose=True \n",
    ")\n",
    "registered_ants = transformation['warpedmovout']\n",
    "preoppostop = explore_3D_array_with_transparent_overlay(arr=preop_ants.numpy(),overlay=registered_ants.numpy())\n",
    "display (preoppostop)"
   ]
  },
  {
   "cell_type": "code",
   "execution_count": null,
   "metadata": {},
   "outputs": [],
   "source": [
    "# apply transformation on cavity mask / registered cavity mask + preop \n",
    "registered_c_ants = ants.apply_transforms(\n",
    "    moving = cavitymask_ants,\n",
    "    fixed = transformation ['warpedmovout'],\n",
    "    transformlist=transformation['fwdtransforms'],\n",
    "    verbose=True\n",
    ")\n",
    "rc = explore_3D_array_with_mask_contour00(\n",
    "    arr=preop_ants.numpy(),\n",
    "    mask=registered_c_ants.numpy()\n",
    ")\n",
    "display (rc)"
   ]
  }
 ],
 "metadata": {
  "language_info": {
   "name": "python"
  }
 },
 "nbformat": 4,
 "nbformat_minor": 2
}
