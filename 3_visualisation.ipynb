{
 "cells": [
  {
   "cell_type": "code",
   "execution_count": null,
   "metadata": {},
   "outputs": [],
   "source": [
    "# Image pre-processing\n",
    "postop_ants = ants.image_read(postop_path, reorient='IAL')\n",
    "postop_ants_arr = postop_ants.numpy()\n",
    "postop = explore_3D_array00(postop_ants_arr)\n",
    "    \n",
    "preop_ants = ants.image_read(preop_path, reorient='IAL')\n",
    "preop_ants_arr = preop_ants.numpy()\n",
    "preop = explore_3D_array00(preop_ants_arr)\n",
    "\n",
    "cavitymask_ants = ants.image_read(cavitymask_path, reorient='IAL')\n",
    "cavitymask_ants_arr = cavitymask_ants.numpy()\n",
    "cavitymask = explore_3D_array00(cavitymask_ants_arr)\n",
    "\n",
    "lesionmask_ants = ants.image_read(lesionmask_path, reorient='IAL')\n",
    "lesionmask_ants_arr = lesionmask_ants.numpy()\n",
    "lesionmask = explore_3D_array00(lesionmask_ants_arr)\n",
    "\n",
    "print(\"postoperative MRI\")\n",
    "display(postop)\n",
    "print(\"preoperative MRI\")\n",
    "display(preop)\n",
    "print(\"cavity mask\")\n",
    "display(cavitymask)\n",
    "print(\"lesion mask\")\n",
    "display(lesionmask)"
   ]
  },
  {
   "cell_type": "code",
   "execution_count": null,
   "metadata": {},
   "outputs": [],
   "source": [
    "# cavity + postop / lesion + preop \n",
    "cavity_postop = ants.mask_image(postop_ants,cavitymask_ants)\n",
    "cp = explore_3D_array_with_mask_contour00 (postop_ants.numpy(),cavitymask_ants.numpy())\n",
    "lesion_preop = ants.mask_image(preop_ants,lesionmask_ants)\n",
    "lp = explore_3D_array_with_mask_contour00 (preop_ants.numpy(),lesionmask_ants.numpy())\n",
    "display (cp)\n",
    "display (lp)"
   ]
  }
 ],
 "metadata": {
  "language_info": {
   "name": "python"
  }
 },
 "nbformat": 4,
 "nbformat_minor": 2
}
